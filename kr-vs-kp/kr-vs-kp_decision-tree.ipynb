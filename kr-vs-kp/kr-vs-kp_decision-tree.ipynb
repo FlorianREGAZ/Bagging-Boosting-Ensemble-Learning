{
 "cells": [
  {
   "cell_type": "code",
   "execution_count": 91,
   "metadata": {},
   "outputs": [],
   "source": [
    "import pandas as pd\n",
    "import numpy as np\n",
    "\n",
    "from sklearn.tree import DecisionTreeClassifier\n",
    "from sklearn.preprocessing import LabelEncoder\n",
    "from sklearn.model_selection import KFold"
   ]
  },
  {
   "cell_type": "code",
   "execution_count": 92,
   "metadata": {},
   "outputs": [],
   "source": [
    "df = pd.read_csv(\"kr-vs-kp.csv\")"
   ]
  },
  {
   "cell_type": "markdown",
   "metadata": {},
   "source": [
    "### Train / Test Split"
   ]
  },
  {
   "cell_type": "code",
   "execution_count": 93,
   "metadata": {},
   "outputs": [],
   "source": [
    "def create_features(df):\n",
    "    df = df.copy()\n",
    "\n",
    "    categories = [\n",
    "        'bkblk','bknwy','bkon8','bkona','bkspr','bkxbq',\n",
    "        'bkxcr','bkxwp','blxwp','bxqsq','cntxt','dsopp',\n",
    "        'dwipd','hdchk','katri','mulch','qxmsq','r2ar8',\n",
    "        'reskd','reskr','rimmx','rkxwp','rxmsq','simpl',\n",
    "        'skach','skewr','skrxp','spcop','stlmt','thrsk',\n",
    "        'wkcti','wkna8','wknck','wkovl','wkpos','wtoeg', \n",
    "        \"class\"\n",
    "    ]\n",
    "\n",
    "    for category in categories:\n",
    "        le = LabelEncoder()\n",
    "        df[category] = le.fit_transform(df[category])\n",
    "    \n",
    "    X = df.drop(\"class\", axis=1)\n",
    "    y = df[\"class\"]\n",
    "\n",
    "    return X, y"
   ]
  },
  {
   "cell_type": "markdown",
   "metadata": {},
   "source": [
    "### Create Model"
   ]
  },
  {
   "cell_type": "code",
   "execution_count": 105,
   "metadata": {},
   "outputs": [],
   "source": [
    "kf = KFold(n_splits=3, shuffle=True, random_state=0)\n",
    "scores = []\n",
    "\n",
    "for train_index, test_index in kf.split(df):\n",
    "    train = df.iloc[train_index]\n",
    "    test = df.iloc[test_index]\n",
    "\n",
    "    X_train, y_train = create_features(df=train)\n",
    "    X_test, y_test = create_features(df=test)\n",
    "\n",
    "    model = DecisionTreeClassifier(\n",
    "        random_state=0,\n",
    "        max_depth=15\n",
    "    )\n",
    "\n",
    "    model.fit(X_train, y_train)\n",
    "    \n",
    "    score = model.score(X_test, y_test)\n",
    "    scores.append(score)"
   ]
  },
  {
   "cell_type": "markdown",
   "metadata": {},
   "source": [
    "### Evaluate"
   ]
  },
  {
   "cell_type": "code",
   "execution_count": 106,
   "metadata": {},
   "outputs": [
    {
     "data": {
      "text/plain": [
       "0.9943679588475192"
      ]
     },
     "execution_count": 106,
     "metadata": {},
     "output_type": "execute_result"
    }
   ],
   "source": [
    "np.average(scores)"
   ]
  },
  {
   "cell_type": "code",
   "execution_count": 97,
   "metadata": {},
   "outputs": [
    {
     "name": "stdout",
     "output_type": "stream",
     "text": [
      "[3.64819588e-02 7.20808397e-04 4.73820870e-03 6.96184952e-03\n",
      " 0.00000000e+00 3.82933985e-02 7.20518354e-03 0.00000000e+00\n",
      " 0.00000000e+00 2.55207011e-01 2.65343179e-03 8.29683934e-05\n",
      " 1.09774102e-03 7.88926666e-03 2.66594383e-02 8.29981250e-03\n",
      " 7.29802804e-03 5.72009897e-03 0.00000000e+00 6.47728540e-03\n",
      " 1.99599800e-01 3.32631586e-03 5.63343133e-03 2.38808861e-03\n",
      " 2.09935333e-03 2.65343179e-04 4.27133814e-03 1.35822540e-03\n",
      " 0.00000000e+00 5.44850236e-03 6.63357947e-04 1.01059269e-01\n",
      " 2.35739347e-01 1.50888216e-03 2.07306403e-02 1.21615624e-04]\n",
      "9\n"
     ]
    }
   ],
   "source": [
    "print(model.feature_importances_)\n",
    "print(np.argmax(model.feature_importances_))"
   ]
  },
  {
   "cell_type": "code",
   "execution_count": null,
   "metadata": {},
   "outputs": [],
   "source": []
  }
 ],
 "metadata": {
  "kernelspec": {
   "display_name": "venv",
   "language": "python",
   "name": "python3"
  },
  "language_info": {
   "codemirror_mode": {
    "name": "ipython",
    "version": 3
   },
   "file_extension": ".py",
   "mimetype": "text/x-python",
   "name": "python",
   "nbconvert_exporter": "python",
   "pygments_lexer": "ipython3",
   "version": "3.10.1"
  }
 },
 "nbformat": 4,
 "nbformat_minor": 2
}
