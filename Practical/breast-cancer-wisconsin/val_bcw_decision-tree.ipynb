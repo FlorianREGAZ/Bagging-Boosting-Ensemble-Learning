{
 "cells": [
  {
   "cell_type": "code",
   "execution_count": 1,
   "metadata": {},
   "outputs": [],
   "source": [
    "import pandas as pd\n",
    "import numpy as np\n",
    "import matplotlib.pyplot as plt\n",
    "\n",
    "from sklearn.tree import DecisionTreeClassifier\n",
    "from sklearn.preprocessing import LabelEncoder\n",
    "from sklearn.model_selection import KFold"
   ]
  },
  {
   "cell_type": "code",
   "execution_count": 2,
   "metadata": {},
   "outputs": [
    {
     "name": "stderr",
     "output_type": "stream",
     "text": [
      "d:\\__STUDIUM\\Proseminar-Bagging-Boosting-Ensemble-Learning\\.venv\\lib\\site-packages\\numpy\\core\\fromnumeric.py:59: FutureWarning: 'DataFrame.swapaxes' is deprecated and will be removed in a future version. Please use 'DataFrame.transpose' instead.\n",
      "  return bound(*args, **kwds)\n"
     ]
    }
   ],
   "source": [
    "df = pd.read_csv(\"breast-cancer-wisconsin.csv\")\n",
    "\n",
    "df, df_validate = np.split(df.sample(frac=1, random_state=0), [int(.8*len(df))])"
   ]
  },
  {
   "cell_type": "markdown",
   "metadata": {},
   "source": [
    "### Train / Test Split"
   ]
  },
  {
   "cell_type": "code",
   "execution_count": 3,
   "metadata": {},
   "outputs": [],
   "source": [
    "def create_features(df):\n",
    "    df = df.copy()\n",
    "\n",
    "    features = [\n",
    "        \"radius_mean\",\"texture_mean\",\"perimeter_mean\",\"area_mean\",\n",
    "        \"smoothness_mean\",\"compactness_mean\",\"concavity_mean\",\n",
    "        \"concave points_mean\",\"symmetry_mean\",\"fractal_dimension_mean\",\n",
    "        \"radius_se\",\"texture_se\",\"perimeter_se\",\"area_se\",\"smoothness_se\",\n",
    "        \"compactness_se\",\"concavity_se\",\"concave points_se\",\"symmetry_se\",\n",
    "        \"fractal_dimension_se\",\"radius_worst\",\"texture_worst\",\n",
    "        \"perimeter_worst\",\"area_worst\",\"smoothness_worst\",\"compactness_worst\",\n",
    "        \"concavity_worst\",\"concave points_worst\",\"symmetry_worst\",\n",
    "        \"fractal_dimension_worst\",\n",
    "    ]\n",
    "\n",
    "    categories = [\"diagnosis\"]\n",
    "\n",
    "    for category in categories:\n",
    "        le = LabelEncoder()\n",
    "        df[category] = le.fit_transform(df[category])\n",
    "    \n",
    "    X = df[features]\n",
    "    y = df[\"diagnosis\"]\n",
    "\n",
    "    return X, y"
   ]
  },
  {
   "cell_type": "markdown",
   "metadata": {},
   "source": [
    "### Create Model"
   ]
  },
  {
   "cell_type": "code",
   "execution_count": 4,
   "metadata": {},
   "outputs": [],
   "source": [
    "def get_model(max_depth=3):\n",
    "    model = DecisionTreeClassifier(\n",
    "        random_state=0,\n",
    "        max_depth=max_depth\n",
    "    )\n",
    "    \n",
    "    return model"
   ]
  },
  {
   "cell_type": "code",
   "execution_count": 5,
   "metadata": {},
   "outputs": [
    {
     "name": "stdout",
     "output_type": "stream",
     "text": [
      "0.9251690821256039\n",
      "[0.9347826086956522, 0.9565217391304348, 0.9782608695652174, 0.9565217391304348, 0.8478260869565217, 0.9111111111111111, 0.8666666666666667, 0.9555555555555556, 0.9111111111111111, 0.9333333333333333]\n"
     ]
    }
   ],
   "source": [
    "kf = KFold(n_splits=10, shuffle=True, random_state=0)\n",
    "scores = []\n",
    "\n",
    "for train_index, test_index in kf.split(df):\n",
    "    train = df.iloc[train_index]\n",
    "    test = df.iloc[test_index]\n",
    "\n",
    "    X_train, y_train = create_features(df=train)\n",
    "    X_test, y_test = create_features(df=test)\n",
    "\n",
    "    model = get_model()\n",
    "\n",
    "    model.fit(X_train, y_train)\n",
    "    \n",
    "    score = model.score(X_test, y_test)\n",
    "    scores.append(score)\n",
    "\n",
    "print(np.average(scores))\n",
    "print(scores)"
   ]
  },
  {
   "cell_type": "markdown",
   "metadata": {},
   "source": [
    "### Validation"
   ]
  },
  {
   "cell_type": "code",
   "execution_count": 6,
   "metadata": {},
   "outputs": [
    {
     "data": {
      "text/plain": [
       "0.9298245614035088"
      ]
     },
     "execution_count": 6,
     "metadata": {},
     "output_type": "execute_result"
    }
   ],
   "source": [
    "X, y = create_features(df=df)\n",
    "X_val, y_val = create_features(df=df_validate)\n",
    "\n",
    "model = get_model()\n",
    "\n",
    "model.fit(X, y)\n",
    "\n",
    "model.score(X_val, y_val)"
   ]
  },
  {
   "cell_type": "markdown",
   "metadata": {},
   "source": [
    "### Plot"
   ]
  },
  {
   "cell_type": "code",
   "execution_count": 7,
   "metadata": {},
   "outputs": [
    {
     "name": "stdout",
     "output_type": "stream",
     "text": [
      "MaxDepth: 1 | Test score: 0.925 | Validation score: 0.877\n",
      "MaxDepth: 2 | Test score: 0.932 | Validation score: 0.895\n",
      "MaxDepth: 3 | Test score: 0.965 | Validation score: 0.930\n",
      "MaxDepth: 4 | Test score: 0.976 | Validation score: 0.965\n",
      "MaxDepth: 5 | Test score: 0.991 | Validation score: 0.956\n",
      "MaxDepth: 6 | Test score: 0.996 | Validation score: 0.947\n",
      "MaxDepth: 7 | Test score: 1.000 | Validation score: 0.965\n",
      "MaxDepth: 8 | Test score: 1.000 | Validation score: 0.965\n",
      "MaxDepth: 9 | Test score: 1.000 | Validation score: 0.965\n",
      "MaxDepth: 10 | Test score: 1.000 | Validation score: 0.965\n",
      "MaxDepth: 11 | Test score: 1.000 | Validation score: 0.965\n",
      "MaxDepth: 12 | Test score: 1.000 | Validation score: 0.965\n",
      "MaxDepth: 13 | Test score: 1.000 | Validation score: 0.965\n",
      "MaxDepth: 14 | Test score: 1.000 | Validation score: 0.965\n",
      "MaxDepth: 15 | Test score: 1.000 | Validation score: 0.965\n",
      "MaxDepth: 16 | Test score: 1.000 | Validation score: 0.965\n",
      "MaxDepth: 17 | Test score: 1.000 | Validation score: 0.965\n",
      "MaxDepth: 18 | Test score: 1.000 | Validation score: 0.965\n",
      "MaxDepth: 19 | Test score: 1.000 | Validation score: 0.965\n",
      "MaxDepth: 20 | Test score: 1.000 | Validation score: 0.965\n",
      "MaxDepth: 21 | Test score: 1.000 | Validation score: 0.965\n",
      "MaxDepth: 22 | Test score: 1.000 | Validation score: 0.965\n",
      "MaxDepth: 23 | Test score: 1.000 | Validation score: 0.965\n",
      "MaxDepth: 24 | Test score: 1.000 | Validation score: 0.965\n",
      "MaxDepth: 25 | Test score: 1.000 | Validation score: 0.965\n",
      "MaxDepth: 26 | Test score: 1.000 | Validation score: 0.965\n",
      "MaxDepth: 27 | Test score: 1.000 | Validation score: 0.965\n",
      "MaxDepth: 28 | Test score: 1.000 | Validation score: 0.965\n",
      "MaxDepth: 29 | Test score: 1.000 | Validation score: 0.965\n",
      "MaxDepth: 30 | Test score: 1.000 | Validation score: 0.965\n"
     ]
    }
   ],
   "source": [
    "from sklearn.metrics import accuracy_score\n",
    "\n",
    "X, y = create_features(df=df)\n",
    "X_test, y_test = create_features(df=df_validate)\n",
    "\n",
    "train_scores = []\n",
    "test_scores = []\n",
    "mapping = []\n",
    "\n",
    "for max_depth in range(1, 31):\n",
    "    model = get_model(max_depth=max_depth)\n",
    "\n",
    "    model.fit(X, y)\n",
    "\n",
    "    train_predictions = model.predict(X)\n",
    "    test_predictions = model.predict(X_test)\n",
    "\n",
    "    train_score = accuracy_score(y, train_predictions)\n",
    "    test_score = accuracy_score(y_test, test_predictions)\n",
    "\n",
    "    mapping.append(max_depth)\n",
    "    train_scores.append(train_score)\n",
    "    test_scores.append(test_score)\n",
    "\n",
    "    print(f\"MaxDepth: {max_depth} | Test score: {train_score:.3f} | Validation score: {test_score:.3f}\")\n"
   ]
  },
  {
   "cell_type": "code",
   "execution_count": 8,
   "metadata": {},
   "outputs": [
    {
     "data": {
      "image/png": "[encoded data removed]",
      "text/plain": [
       "<Figure size 640x480 with 1 Axes>"
      ]
     },
     "metadata": {},
     "output_type": "display_data"
    }
   ],
   "source": [
    "plt.title(\"Breast Cancer Wisconsin: Decision Tree\")\n",
    "plt.plot(mapping, train_scores, color='red', label='train accuracy')\n",
    "plt.plot(mapping, test_scores, color='blue', label='test accuracy')\n",
    "\n",
    "plt.legend()\n",
    "\n",
    "plt.savefig(\"figs/bcw_decision-tree.png\")\n",
    "plt.show()"
   ]
  }
 ],
 "metadata": {
  "kernelspec": {
   "display_name": "venv",
   "language": "python",
   "name": "python3"
  },
  "language_info": {
   "codemirror_mode": {
    "name": "ipython",
    "version": 3
   },
   "file_extension": ".py",
   "mimetype": "text/x-python",
   "name": "python",
   "nbconvert_exporter": "python",
   "pygments_lexer": "ipython3",
   "version": "3.10.1"
  }
 },
 "nbformat": 4,
 "nbformat_minor": 2
}
