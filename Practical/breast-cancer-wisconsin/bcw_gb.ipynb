{
 "cells": [
  {
   "cell_type": "code",
   "execution_count": 6,
   "metadata": {},
   "outputs": [],
   "source": [
    "import pandas as pd\n",
    "import numpy as np\n",
    "\n",
    "from sklearn.ensemble import GradientBoostingClassifier\n",
    "from sklearn.preprocessing import LabelEncoder\n",
    "from sklearn.model_selection import KFold\n",
    "\n",
    "from sklearn.model_selection import train_test_split"
   ]
  },
  {
   "cell_type": "code",
   "execution_count": 7,
   "metadata": {},
   "outputs": [],
   "source": [
    "df = pd.read_csv(\"breast-cancer-wisconsin.csv\")\n"
   ]
  },
  {
   "cell_type": "markdown",
   "metadata": {},
   "source": [
    "### Train / Test Split"
   ]
  },
  {
   "cell_type": "code",
   "execution_count": 8,
   "metadata": {},
   "outputs": [],
   "source": [
    "def create_features(df):\n",
    "    df = df.copy()\n",
    "\n",
    "    features = [\n",
    "        \"radius_mean\",\"texture_mean\",\"perimeter_mean\",\"area_mean\",\n",
    "        \"smoothness_mean\",\"compactness_mean\",\"concavity_mean\",\n",
    "        \"concave points_mean\",\"symmetry_mean\",\"fractal_dimension_mean\",\n",
    "        \"radius_se\",\"texture_se\",\"perimeter_se\",\"area_se\",\"smoothness_se\",\n",
    "        \"compactness_se\",\"concavity_se\",\"concave points_se\",\"symmetry_se\",\n",
    "        \"fractal_dimension_se\",\"radius_worst\",\"texture_worst\",\n",
    "        \"perimeter_worst\",\"area_worst\",\"smoothness_worst\",\"compactness_worst\",\n",
    "        \"concavity_worst\",\"concave points_worst\",\"symmetry_worst\",\n",
    "        \"fractal_dimension_worst\",\n",
    "    ]\n",
    "\n",
    "    categories = [\"diagnosis\"]\n",
    "\n",
    "    for category in categories:\n",
    "        le = LabelEncoder()\n",
    "        df[category] = le.fit_transform(df[category])\n",
    "    \n",
    "    X = df[features]\n",
    "    y = df[\"diagnosis\"]\n",
    "\n",
    "    return X, y"
   ]
  },
  {
   "cell_type": "markdown",
   "metadata": {},
   "source": [
    "### Create Model"
   ]
  },
  {
   "cell_type": "code",
   "execution_count": 18,
   "metadata": {},
   "outputs": [],
   "source": [
    "kf = KFold(n_splits=10, shuffle=True, random_state=0)\n",
    "scores = []\n",
    "\n",
    "for train_index, test_index in kf.split(df):\n",
    "    train = df.iloc[train_index]\n",
    "    test = df.iloc[test_index]\n",
    "\n",
    "    X_train, y_train = create_features(df=train)\n",
    "    X_test, y_test = create_features(df=test)\n",
    "\n",
    "    model = GradientBoostingClassifier(\n",
    "        learning_rate=0.1,\n",
    "        n_estimators=1000,\n",
    "        max_depth=3,\n",
    "        random_state=0,\n",
    "        verbose=0\n",
    "    )\n",
    "\n",
    "    model.fit(X_train, y_train)\n",
    "    \n",
    "    score = model.score(X_test, y_test)\n",
    "    scores.append(score)"
   ]
  },
  {
   "cell_type": "markdown",
   "metadata": {},
   "source": [
    "### Evaluate"
   ]
  },
  {
   "cell_type": "code",
   "execution_count": 19,
   "metadata": {},
   "outputs": [
    {
     "data": {
      "text/plain": [
       "0.9736842105263157"
      ]
     },
     "execution_count": 19,
     "metadata": {},
     "output_type": "execute_result"
    }
   ],
   "source": [
    "np.average(scores)"
   ]
  },
  {
   "cell_type": "code",
   "execution_count": null,
   "metadata": {},
   "outputs": [],
   "source": []
  }
 ],
 "metadata": {
  "kernelspec": {
   "display_name": "venv",
   "language": "python",
   "name": "python3"
  },
  "language_info": {
   "codemirror_mode": {
    "name": "ipython",
    "version": 3
   },
   "file_extension": ".py",
   "mimetype": "text/x-python",
   "name": "python",
   "nbconvert_exporter": "python",
   "pygments_lexer": "ipython3",
   "version": "3.10.1"
  }
 },
 "nbformat": 4,
 "nbformat_minor": 2
}
