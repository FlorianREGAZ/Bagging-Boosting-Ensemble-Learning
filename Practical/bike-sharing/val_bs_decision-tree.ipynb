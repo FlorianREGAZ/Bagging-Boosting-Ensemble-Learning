{
 "cells": [
  {
   "cell_type": "code",
   "execution_count": 1,
   "metadata": {},
   "outputs": [],
   "source": [
    "import pandas as pd\n",
    "import numpy as np\n",
    "import matplotlib.pyplot as plt\n",
    "\n",
    "from sklearn.tree import DecisionTreeRegressor\n",
    "from sklearn.model_selection import KFold"
   ]
  },
  {
   "cell_type": "code",
   "execution_count": 2,
   "metadata": {},
   "outputs": [
    {
     "name": "stderr",
     "output_type": "stream",
     "text": [
      "d:\\__STUDIUM\\Proseminar-Bagging-Boosting-Ensemble-Learning\\.venv\\lib\\site-packages\\numpy\\core\\fromnumeric.py:59: FutureWarning: 'DataFrame.swapaxes' is deprecated and will be removed in a future version. Please use 'DataFrame.transpose' instead.\n",
      "  return bound(*args, **kwds)\n"
     ]
    }
   ],
   "source": [
    "df = pd.read_csv(\"day.csv\")\n",
    "\n",
    "df, df_validate = np.split(df.sample(frac=1, random_state=0), [int(.8*len(df))])"
   ]
  },
  {
   "cell_type": "markdown",
   "metadata": {},
   "source": [
    "### Train / Test Split"
   ]
  },
  {
   "cell_type": "code",
   "execution_count": 3,
   "metadata": {},
   "outputs": [],
   "source": [
    "def create_features(df):\n",
    "    df = df.copy()\n",
    "\n",
    "    features = [\n",
    "        \"season\",\"yr\",\"mnth\",\"holiday\",\"weekday\",\"workingday\",\"weathersit\",\"temp\",\"atemp\",\"hum\",\"windspeed\"\n",
    "    ]\n",
    "\n",
    "    X = df[features]\n",
    "    y = df[\"cnt\"]\n",
    "\n",
    "    return X, y"
   ]
  },
  {
   "cell_type": "markdown",
   "metadata": {},
   "source": [
    "### Create Model"
   ]
  },
  {
   "cell_type": "code",
   "execution_count": 4,
   "metadata": {},
   "outputs": [],
   "source": [
    "def get_model(max_depth=7):\n",
    "    model = DecisionTreeRegressor(\n",
    "        random_state=0,\n",
    "        max_depth=max_depth\n",
    "    )\n",
    "    \n",
    "    return model"
   ]
  },
  {
   "cell_type": "code",
   "execution_count": 5,
   "metadata": {},
   "outputs": [
    {
     "name": "stdout",
     "output_type": "stream",
     "text": [
      "0.7915415664079772\n",
      "[0.8314371604416783, 0.8046520097624988, 0.7498454109839927, 0.8776040747170762, 0.8170412968891814, 0.9380449818563287, 0.7625407356484823, 0.6456166665380756, 0.8120896710206139, 0.6765436562218432]\n"
     ]
    }
   ],
   "source": [
    "kf = KFold(n_splits=10, shuffle=True, random_state=0)\n",
    "scores = []\n",
    "\n",
    "for train_index, test_index in kf.split(df):\n",
    "    train = df.iloc[train_index]\n",
    "    test = df.iloc[test_index]\n",
    "\n",
    "    X_train, y_train = create_features(df=train)\n",
    "    X_test, y_test = create_features(df=test)\n",
    "\n",
    "    model = get_model()\n",
    "\n",
    "    model.fit(X_train, y_train)\n",
    "    \n",
    "    score = model.score(X_test, y_test)\n",
    "    scores.append(score)\n",
    "\n",
    "print(np.average(scores))\n",
    "print(scores)"
   ]
  },
  {
   "cell_type": "markdown",
   "metadata": {},
   "source": [
    "### Validation"
   ]
  },
  {
   "cell_type": "code",
   "execution_count": 6,
   "metadata": {},
   "outputs": [
    {
     "data": {
      "text/plain": [
       "0.7696534379093999"
      ]
     },
     "execution_count": 6,
     "metadata": {},
     "output_type": "execute_result"
    }
   ],
   "source": [
    "X, y = create_features(df=df)\n",
    "X_val, y_val = create_features(df=df_validate)\n",
    "\n",
    "model = get_model()\n",
    "\n",
    "model.fit(X, y)\n",
    "\n",
    "model.score(X_val, y_val)"
   ]
  },
  {
   "cell_type": "markdown",
   "metadata": {},
   "source": [
    "### Plot"
   ]
  },
  {
   "cell_type": "code",
   "execution_count": 33,
   "metadata": {},
   "outputs": [
    {
     "name": "stdout",
     "output_type": "stream",
     "text": [
      "MaxDepth: 1 | Test score: 0.398 | Validation score: 0.355\n",
      "MaxDepth: 2 | Test score: 0.681 | Validation score: 0.688\n",
      "MaxDepth: 3 | Test score: 0.788 | Validation score: 0.796\n",
      "MaxDepth: 4 | Test score: 0.849 | Validation score: 0.807\n",
      "MaxDepth: 5 | Test score: 0.888 | Validation score: 0.808\n",
      "MaxDepth: 6 | Test score: 0.924 | Validation score: 0.775\n",
      "MaxDepth: 7 | Test score: 0.948 | Validation score: 0.770\n",
      "MaxDepth: 8 | Test score: 0.964 | Validation score: 0.749\n",
      "MaxDepth: 9 | Test score: 0.978 | Validation score: 0.765\n",
      "MaxDepth: 10 | Test score: 0.986 | Validation score: 0.776\n",
      "MaxDepth: 11 | Test score: 0.992 | Validation score: 0.773\n",
      "MaxDepth: 12 | Test score: 0.996 | Validation score: 0.782\n",
      "MaxDepth: 13 | Test score: 0.998 | Validation score: 0.772\n",
      "MaxDepth: 14 | Test score: 0.999 | Validation score: 0.769\n",
      "MaxDepth: 15 | Test score: 1.000 | Validation score: 0.743\n",
      "MaxDepth: 16 | Test score: 1.000 | Validation score: 0.765\n",
      "MaxDepth: 17 | Test score: 1.000 | Validation score: 0.783\n",
      "MaxDepth: 18 | Test score: 1.000 | Validation score: 0.768\n",
      "MaxDepth: 19 | Test score: 1.000 | Validation score: 0.782\n",
      "MaxDepth: 20 | Test score: 1.000 | Validation score: 0.773\n",
      "MaxDepth: 21 | Test score: 1.000 | Validation score: 0.773\n",
      "MaxDepth: 22 | Test score: 1.000 | Validation score: 0.773\n",
      "MaxDepth: 23 | Test score: 1.000 | Validation score: 0.773\n",
      "MaxDepth: 24 | Test score: 1.000 | Validation score: 0.773\n",
      "MaxDepth: 25 | Test score: 1.000 | Validation score: 0.773\n",
      "MaxDepth: 26 | Test score: 1.000 | Validation score: 0.773\n",
      "MaxDepth: 27 | Test score: 1.000 | Validation score: 0.773\n",
      "MaxDepth: 28 | Test score: 1.000 | Validation score: 0.773\n",
      "MaxDepth: 29 | Test score: 1.000 | Validation score: 0.773\n",
      "MaxDepth: 30 | Test score: 1.000 | Validation score: 0.773\n"
     ]
    }
   ],
   "source": [
    "from sklearn.metrics import r2_score\n",
    "\n",
    "X, y = create_features(df=df)\n",
    "X_test, y_test = create_features(df=df_validate)\n",
    "\n",
    "train_scores = []\n",
    "test_scores = []\n",
    "mapping = []\n",
    "\n",
    "for max_depth in range(1, 31):\n",
    "    model = get_model(max_depth=max_depth)\n",
    "\n",
    "    model.fit(X, y)\n",
    "\n",
    "    train_predictions = model.predict(X)\n",
    "    test_predictions = model.predict(X_test)\n",
    "\n",
    "    train_score = r2_score(y, train_predictions)\n",
    "    test_score = r2_score(y_test, test_predictions)\n",
    "\n",
    "    mapping.append(max_depth)\n",
    "    train_scores.append(train_score)\n",
    "    test_scores.append(test_score)\n",
    "\n",
    "    print(f\"MaxDepth: {max_depth} | Test score: {train_score:.3f} | Validation score: {test_score:.3f}\")\n"
   ]
  },
  {
   "cell_type": "code",
   "execution_count": 34,
   "metadata": {},
   "outputs": [
    {
     "data": {
      "image/png": "[encoded data removed]",
      "text/plain": [
       "<Figure size 640x480 with 1 Axes>"
      ]
     },
     "metadata": {},
     "output_type": "display_data"
    }
   ],
   "source": [
    "plt.title(\"Bike sharing: Decision Tree\")\n",
    "plt.plot(mapping, train_scores, color='red', label='train r2 score')\n",
    "plt.plot(mapping, test_scores, color='blue', label='test r2 score')\n",
    "\n",
    "plt.legend()\n",
    "\n",
    "plt.savefig(\"figs/bs_decision-tree.png\")\n",
    "plt.show()"
   ]
  },
  {
   "cell_type": "code",
   "execution_count": null,
   "metadata": {},
   "outputs": [],
   "source": []
  }
 ],
 "metadata": {
  "kernelspec": {
   "display_name": "venv",
   "language": "python",
   "name": "python3"
  },
  "language_info": {
   "codemirror_mode": {
    "name": "ipython",
    "version": 3
   },
   "file_extension": ".py",
   "mimetype": "text/x-python",
   "name": "python",
   "nbconvert_exporter": "python",
   "pygments_lexer": "ipython3",
   "version": "3.10.1"
  }
 },
 "nbformat": 4,
 "nbformat_minor": 2
}
