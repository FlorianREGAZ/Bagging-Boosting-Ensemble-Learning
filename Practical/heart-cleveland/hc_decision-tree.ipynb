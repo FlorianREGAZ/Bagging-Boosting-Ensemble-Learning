{
 "cells": [
  {
   "cell_type": "code",
   "execution_count": 61,
   "metadata": {},
   "outputs": [],
   "source": [
    "import pandas as pd\n",
    "import numpy as np\n",
    "\n",
    "from sklearn.tree import DecisionTreeClassifier\n",
    "from sklearn.preprocessing import LabelEncoder\n",
    "from sklearn.model_selection import KFold"
   ]
  },
  {
   "cell_type": "code",
   "execution_count": 62,
   "metadata": {},
   "outputs": [],
   "source": [
    "df = pd.read_csv(\"Heart_disease_cleveland.csv\")"
   ]
  },
  {
   "cell_type": "markdown",
   "metadata": {},
   "source": [
    "### Train / Test Split"
   ]
  },
  {
   "cell_type": "code",
   "execution_count": 63,
   "metadata": {},
   "outputs": [],
   "source": [
    "def create_features(df):\n",
    "    df = df.copy()\n",
    "\n",
    "    features = [\n",
    "        \"age\",\"sex\",\"cp\",\"trestbps\",\"chol\",\"fbs\",\"restecg\",\n",
    "        \"thalach\",\"exang\",\"oldpeak\",\"slope\",\"ca\",\"thal\"\n",
    "    ]\n",
    "\n",
    "    X = df[features]\n",
    "    y = df[\"target\"]\n",
    "\n",
    "    return X, y"
   ]
  },
  {
   "cell_type": "markdown",
   "metadata": {},
   "source": [
    "### Create Model"
   ]
  },
  {
   "cell_type": "code",
   "execution_count": 64,
   "metadata": {},
   "outputs": [],
   "source": [
    "kf = KFold(n_splits=10, shuffle=True, random_state=0)\n",
    "scores = []\n",
    "\n",
    "for train_index, test_index in kf.split(df):\n",
    "    train = df.iloc[train_index]\n",
    "    test = df.iloc[test_index]\n",
    "\n",
    "    X_train, y_train = create_features(df=train)\n",
    "    X_test, y_test = create_features(df=test)\n",
    "\n",
    "    model = DecisionTreeClassifier(\n",
    "        random_state=0,\n",
    "        max_depth=3\n",
    "    )\n",
    "\n",
    "    model.fit(X_train, y_train)\n",
    "    \n",
    "    score = model.score(X_test, y_test)\n",
    "    scores.append(score)"
   ]
  },
  {
   "cell_type": "markdown",
   "metadata": {},
   "source": [
    "### Evaluate"
   ]
  },
  {
   "cell_type": "code",
   "execution_count": 65,
   "metadata": {},
   "outputs": [
    {
     "name": "stdout",
     "output_type": "stream",
     "text": [
      "0.8084946236559138\n",
      "[0.7096774193548387, 0.8387096774193549, 0.9032258064516129, 0.7333333333333333, 0.8, 0.9333333333333333, 0.8, 0.8, 0.8666666666666667, 0.7]\n"
     ]
    }
   ],
   "source": [
    "print(np.average(scores))\n",
    "print(scores)"
   ]
  }
 ],
 "metadata": {
  "kernelspec": {
   "display_name": "venv",
   "language": "python",
   "name": "python3"
  },
  "language_info": {
   "codemirror_mode": {
    "name": "ipython",
    "version": 3
   },
   "file_extension": ".py",
   "mimetype": "text/x-python",
   "name": "python",
   "nbconvert_exporter": "python",
   "pygments_lexer": "ipython3",
   "version": "3.10.8"
  }
 },
 "nbformat": 4,
 "nbformat_minor": 2
}
