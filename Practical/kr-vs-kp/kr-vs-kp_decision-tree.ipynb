{
 "cells": [
  {
   "cell_type": "code",
   "execution_count": 1,
   "metadata": {},
   "outputs": [],
   "source": [
    "import pandas as pd\n",
    "import numpy as np\n",
    "\n",
    "from sklearn.tree import DecisionTreeClassifier\n",
    "from sklearn.preprocessing import LabelEncoder\n",
    "from sklearn.model_selection import KFold"
   ]
  },
  {
   "cell_type": "code",
   "execution_count": 2,
   "metadata": {},
   "outputs": [],
   "source": [
    "df = pd.read_csv(\"kr-vs-kp.csv\")"
   ]
  },
  {
   "cell_type": "markdown",
   "metadata": {},
   "source": [
    "### Train / Test Split"
   ]
  },
  {
   "cell_type": "code",
   "execution_count": 3,
   "metadata": {},
   "outputs": [],
   "source": [
    "def create_features(df):\n",
    "    df = df.copy()\n",
    "\n",
    "    categories = [\n",
    "        'bkblk','bknwy','bkon8','bkona','bkspr','bkxbq',\n",
    "        'bkxcr','bkxwp','blxwp','bxqsq','cntxt','dsopp',\n",
    "        'dwipd','hdchk','katri','mulch','qxmsq','r2ar8',\n",
    "        'reskd','reskr','rimmx','rkxwp','rxmsq','simpl',\n",
    "        'skach','skewr','skrxp','spcop','stlmt','thrsk',\n",
    "        'wkcti','wkna8','wknck','wkovl','wkpos','wtoeg', \n",
    "        \"class\"\n",
    "    ]\n",
    "\n",
    "    for category in categories:\n",
    "        le = LabelEncoder()\n",
    "        df[category] = le.fit_transform(df[category])\n",
    "    \n",
    "    X = df.drop(\"class\", axis=1)\n",
    "    y = df[\"class\"]\n",
    "\n",
    "    return X, y"
   ]
  },
  {
   "cell_type": "markdown",
   "metadata": {},
   "source": [
    "### Create Model"
   ]
  },
  {
   "cell_type": "code",
   "execution_count": 4,
   "metadata": {},
   "outputs": [],
   "source": [
    "kf = KFold(n_splits=5, shuffle=True, random_state=0)\n",
    "scores = []\n",
    "\n",
    "for train_index, test_index in kf.split(df):\n",
    "    train = df.iloc[train_index]\n",
    "    test = df.iloc[test_index]\n",
    "\n",
    "    X_train, y_train = create_features(df=train)\n",
    "    X_test, y_test = create_features(df=test)\n",
    "\n",
    "    model = DecisionTreeClassifier(\n",
    "        random_state=0,\n",
    "        max_depth=15\n",
    "    )\n",
    "\n",
    "    model.fit(X_train, y_train)\n",
    "    \n",
    "    score = model.score(X_test, y_test)\n",
    "    scores.append(score)"
   ]
  },
  {
   "cell_type": "markdown",
   "metadata": {},
   "source": [
    "### Evaluate"
   ]
  },
  {
   "cell_type": "code",
   "execution_count": 5,
   "metadata": {},
   "outputs": [
    {
     "data": {
      "text/plain": [
       "0.995619131455399"
      ]
     },
     "execution_count": 5,
     "metadata": {},
     "output_type": "execute_result"
    }
   ],
   "source": [
    "np.average(scores)"
   ]
  },
  {
   "cell_type": "code",
   "execution_count": 6,
   "metadata": {},
   "outputs": [
    {
     "name": "stdout",
     "output_type": "stream",
     "text": [
      "[3.44682784e-02 4.57322059e-04 5.29878701e-03 7.26332639e-03\n",
      " 0.00000000e+00 3.78396223e-02 7.29310723e-03 0.00000000e+00\n",
      " 0.00000000e+00 2.49974001e-01 1.77385526e-03 1.07742372e-04\n",
      " 1.25596904e-03 8.57429650e-03 2.77641109e-02 9.64296226e-03\n",
      " 6.82302513e-03 7.48069705e-03 8.36246050e-04 6.00156393e-03\n",
      " 1.99753973e-01 3.64852543e-03 5.12772039e-03 1.56796134e-03\n",
      " 2.77621391e-03 1.17597101e-03 4.08364932e-03 1.52184483e-03\n",
      " 0.00000000e+00 3.96460263e-03 9.28558926e-04 1.01540864e-01\n",
      " 2.37584161e-01 7.37655549e-04 2.24533925e-02 2.79993097e-04]\n",
      "9\n"
     ]
    }
   ],
   "source": [
    "print(model.feature_importances_)\n",
    "print(np.argmax(model.feature_importances_))"
   ]
  },
  {
   "cell_type": "code",
   "execution_count": null,
   "metadata": {},
   "outputs": [],
   "source": []
  }
 ],
 "metadata": {
  "kernelspec": {
   "display_name": "venv",
   "language": "python",
   "name": "python3"
  },
  "language_info": {
   "codemirror_mode": {
    "name": "ipython",
    "version": 3
   },
   "file_extension": ".py",
   "mimetype": "text/x-python",
   "name": "python",
   "nbconvert_exporter": "python",
   "pygments_lexer": "ipython3",
   "version": "3.10.1"
  }
 },
 "nbformat": 4,
 "nbformat_minor": 2
}
