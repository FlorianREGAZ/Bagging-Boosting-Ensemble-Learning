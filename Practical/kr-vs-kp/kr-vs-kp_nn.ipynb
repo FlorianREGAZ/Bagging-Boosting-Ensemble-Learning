{
 "cells": [
  {
   "cell_type": "code",
   "execution_count": 2,
   "metadata": {},
   "outputs": [],
   "source": [
    "import pandas as pd\n",
    "\n",
    "from sklearn.neural_network import MLPClassifier\n",
    "from sklearn.model_selection import train_test_split\n",
    "from sklearn.preprocessing import LabelEncoder\n",
    "from sklearn.preprocessing import OneHotEncoder"
   ]
  },
  {
   "cell_type": "code",
   "execution_count": 3,
   "metadata": {},
   "outputs": [],
   "source": [
    "df = pd.read_csv(\"kr-vs-kp.csv\")"
   ]
  },
  {
   "cell_type": "markdown",
   "metadata": {},
   "source": [
    "### Train / Test Split"
   ]
  },
  {
   "cell_type": "code",
   "execution_count": 4,
   "metadata": {},
   "outputs": [],
   "source": [
    "le = LabelEncoder()\n",
    "df[\"class\"] = le.fit_transform(df[\"class\"])\n",
    "\n",
    "categories = ['bkblk','bknwy','bkon8','bkona','bkspr','bkxbq','bkxcr','bkxwp','blxwp','bxqsq','cntxt','dsopp','dwipd','hdchk','katri','mulch','qxmsq','r2ar8','reskd','reskr','rimmx','rkxwp','rxmsq','simpl','skach','skewr','skrxp','spcop','stlmt','thrsk','wkcti','wkna8','wknck','wkovl','wkpos','wtoeg']\n",
    "\n",
    "OH_encoder = OneHotEncoder(handle_unknown='ignore', sparse_output=False)\n",
    "OH_df = pd.DataFrame(OH_encoder.fit_transform(df[categories]))\n",
    "\n",
    "enc_df = pd.concat([OH_df, df[\"class\"]], axis=1)"
   ]
  },
  {
   "cell_type": "code",
   "execution_count": 5,
   "metadata": {},
   "outputs": [],
   "source": [
    "train = enc_df.drop(\"class\", axis=1)\n",
    "test = enc_df[\"class\"]"
   ]
  },
  {
   "cell_type": "code",
   "execution_count": 6,
   "metadata": {},
   "outputs": [],
   "source": [
    "X_train, X_test, y_train, y_test = train_test_split(train, test, train_size=0.8)"
   ]
  },
  {
   "cell_type": "markdown",
   "metadata": {},
   "source": [
    "### Create Model"
   ]
  },
  {
   "cell_type": "code",
   "execution_count": 14,
   "metadata": {},
   "outputs": [
    {
     "name": "stdout",
     "output_type": "stream",
     "text": [
      "Iteration 1, loss = 1.79109978\n",
      "Iteration 2, loss = 0.69505254\n",
      "Iteration 3, loss = 0.61842012\n",
      "Iteration 4, loss = 0.42448207\n",
      "Iteration 5, loss = 0.24980267\n",
      "Iteration 6, loss = 0.16964342\n",
      "Iteration 7, loss = 0.13172686\n",
      "Iteration 8, loss = 0.11736491\n",
      "Iteration 9, loss = 0.10582451\n",
      "Iteration 10, loss = 0.10563235\n",
      "Iteration 11, loss = 0.11795100\n",
      "Iteration 12, loss = 0.10431727\n",
      "Iteration 13, loss = 0.09583641\n",
      "Iteration 14, loss = 0.10339407\n",
      "Iteration 15, loss = 0.13664494\n",
      "Iteration 16, loss = 0.11512186\n",
      "Iteration 17, loss = 0.09645126\n",
      "Iteration 18, loss = 0.09112259\n",
      "Iteration 19, loss = 0.09608939\n",
      "Iteration 20, loss = 0.08855896\n",
      "Iteration 21, loss = 0.09043133\n",
      "Iteration 22, loss = 0.09023943\n",
      "Iteration 23, loss = 0.09698831\n",
      "Iteration 24, loss = 0.08978436\n",
      "Iteration 25, loss = 0.09726328\n",
      "Iteration 26, loss = 0.10027788\n",
      "Iteration 27, loss = 0.09026787\n",
      "Iteration 28, loss = 0.08663513\n",
      "Iteration 29, loss = 0.08215642\n",
      "Iteration 30, loss = 0.08290488\n",
      "Iteration 31, loss = 0.08405378\n",
      "Iteration 32, loss = 0.08753343\n",
      "Iteration 33, loss = 0.09024292\n",
      "Iteration 34, loss = 0.10170827\n",
      "Iteration 35, loss = 0.09555095\n",
      "Iteration 36, loss = 0.08746153\n",
      "Iteration 37, loss = 0.08721231\n",
      "Iteration 38, loss = 0.08132760\n",
      "Iteration 39, loss = 0.07967971\n",
      "Iteration 40, loss = 0.08662002\n",
      "Iteration 41, loss = 0.09163791\n",
      "Iteration 42, loss = 0.08224286\n",
      "Iteration 43, loss = 0.08616920\n",
      "Iteration 44, loss = 0.08430621\n",
      "Iteration 45, loss = 0.07696218\n",
      "Iteration 46, loss = 0.07791906\n",
      "Iteration 47, loss = 0.07781197\n",
      "Iteration 48, loss = 0.07728432\n",
      "Iteration 49, loss = 0.07580278\n",
      "Iteration 50, loss = 0.07695778\n",
      "Iteration 51, loss = 0.07929566\n",
      "Iteration 52, loss = 0.09873251\n",
      "Iteration 53, loss = 0.09754236\n",
      "Iteration 54, loss = 0.09852519\n",
      "Iteration 55, loss = 0.08941844\n",
      "Iteration 56, loss = 0.08018374\n",
      "Iteration 57, loss = 0.07513493\n",
      "Iteration 58, loss = 0.07483803\n",
      "Iteration 59, loss = 0.07608821\n",
      "Iteration 60, loss = 0.07960439\n",
      "Iteration 61, loss = 0.09660421\n",
      "Iteration 62, loss = 0.08846915\n",
      "Iteration 63, loss = 0.08135379\n",
      "Iteration 64, loss = 0.08159700\n",
      "Iteration 65, loss = 0.08076040\n",
      "Iteration 66, loss = 0.08203579\n",
      "Iteration 67, loss = 0.07744238\n",
      "Iteration 68, loss = 0.08400200\n",
      "Iteration 69, loss = 0.07547783\n",
      "Training loss did not improve more than tol=0.000100 for 10 consecutive epochs. Stopping.\n"
     ]
    },
    {
     "data": {
      "text/html": [
       "<style>#sk-container-id-4 {color: black;}#sk-container-id-4 pre{padding: 0;}#sk-container-id-4 div.sk-toggleable {background-color: white;}#sk-container-id-4 label.sk-toggleable__label {cursor: pointer;display: block;width: 100%;margin-bottom: 0;padding: 0.3em;box-sizing: border-box;text-align: center;}#sk-container-id-4 label.sk-toggleable__label-arrow:before {content: \"▸\";float: left;margin-right: 0.25em;color: #696969;}#sk-container-id-4 label.sk-toggleable__label-arrow:hover:before {color: black;}#sk-container-id-4 div.sk-estimator:hover label.sk-toggleable__label-arrow:before {color: black;}#sk-container-id-4 div.sk-toggleable__content {max-height: 0;max-width: 0;overflow: hidden;text-align: left;background-color: #f0f8ff;}#sk-container-id-4 div.sk-toggleable__content pre {margin: 0.2em;color: black;border-radius: 0.25em;background-color: #f0f8ff;}#sk-container-id-4 input.sk-toggleable__control:checked~div.sk-toggleable__content {max-height: 200px;max-width: 100%;overflow: auto;}#sk-container-id-4 input.sk-toggleable__control:checked~label.sk-toggleable__label-arrow:before {content: \"▾\";}#sk-container-id-4 div.sk-estimator input.sk-toggleable__control:checked~label.sk-toggleable__label {background-color: #d4ebff;}#sk-container-id-4 div.sk-label input.sk-toggleable__control:checked~label.sk-toggleable__label {background-color: #d4ebff;}#sk-container-id-4 input.sk-hidden--visually {border: 0;clip: rect(1px 1px 1px 1px);clip: rect(1px, 1px, 1px, 1px);height: 1px;margin: -1px;overflow: hidden;padding: 0;position: absolute;width: 1px;}#sk-container-id-4 div.sk-estimator {font-family: monospace;background-color: #f0f8ff;border: 1px dotted black;border-radius: 0.25em;box-sizing: border-box;margin-bottom: 0.5em;}#sk-container-id-4 div.sk-estimator:hover {background-color: #d4ebff;}#sk-container-id-4 div.sk-parallel-item::after {content: \"\";width: 100%;border-bottom: 1px solid gray;flex-grow: 1;}#sk-container-id-4 div.sk-label:hover label.sk-toggleable__label {background-color: #d4ebff;}#sk-container-id-4 div.sk-serial::before {content: \"\";position: absolute;border-left: 1px solid gray;box-sizing: border-box;top: 0;bottom: 0;left: 50%;z-index: 0;}#sk-container-id-4 div.sk-serial {display: flex;flex-direction: column;align-items: center;background-color: white;padding-right: 0.2em;padding-left: 0.2em;position: relative;}#sk-container-id-4 div.sk-item {position: relative;z-index: 1;}#sk-container-id-4 div.sk-parallel {display: flex;align-items: stretch;justify-content: center;background-color: white;position: relative;}#sk-container-id-4 div.sk-item::before, #sk-container-id-4 div.sk-parallel-item::before {content: \"\";position: absolute;border-left: 1px solid gray;box-sizing: border-box;top: 0;bottom: 0;left: 50%;z-index: -1;}#sk-container-id-4 div.sk-parallel-item {display: flex;flex-direction: column;z-index: 1;position: relative;background-color: white;}#sk-container-id-4 div.sk-parallel-item:first-child::after {align-self: flex-end;width: 50%;}#sk-container-id-4 div.sk-parallel-item:last-child::after {align-self: flex-start;width: 50%;}#sk-container-id-4 div.sk-parallel-item:only-child::after {width: 0;}#sk-container-id-4 div.sk-dashed-wrapped {border: 1px dashed gray;margin: 0 0.4em 0.5em 0.4em;box-sizing: border-box;padding-bottom: 0.4em;background-color: white;}#sk-container-id-4 div.sk-label label {font-family: monospace;font-weight: bold;display: inline-block;line-height: 1.2em;}#sk-container-id-4 div.sk-label-container {text-align: center;}#sk-container-id-4 div.sk-container {/* jupyter's `normalize.less` sets `[hidden] { display: none; }` but bootstrap.min.css set `[hidden] { display: none !important; }` so we also need the `!important` here to be able to override the default hidden behavior on the sphinx rendered scikit-learn.org. See: https://github.com/scikit-learn/scikit-learn/issues/21755 */display: inline-block !important;position: relative;}#sk-container-id-4 div.sk-text-repr-fallback {display: none;}</style><div id=\"sk-container-id-4\" class=\"sk-top-container\"><div class=\"sk-text-repr-fallback\"><pre>MLPClassifier(hidden_layer_sizes=(30,), learning_rate_init=0.15, random_state=0,\n",
       "              verbose=1)</pre><b>In a Jupyter environment, please rerun this cell to show the HTML representation or trust the notebook. <br />On GitHub, the HTML representation is unable to render, please try loading this page with nbviewer.org.</b></div><div class=\"sk-container\" hidden><div class=\"sk-item\"><div class=\"sk-estimator sk-toggleable\"><input class=\"sk-toggleable__control sk-hidden--visually\" id=\"sk-estimator-id-4\" type=\"checkbox\" checked><label for=\"sk-estimator-id-4\" class=\"sk-toggleable__label sk-toggleable__label-arrow\">MLPClassifier</label><div class=\"sk-toggleable__content\"><pre>MLPClassifier(hidden_layer_sizes=(30,), learning_rate_init=0.15, random_state=0,\n",
       "              verbose=1)</pre></div></div></div></div></div>"
      ],
      "text/plain": [
       "MLPClassifier(hidden_layer_sizes=(30,), learning_rate_init=0.15, random_state=0,\n",
       "              verbose=1)"
      ]
     },
     "execution_count": 14,
     "metadata": {},
     "output_type": "execute_result"
    }
   ],
   "source": [
    "model = MLPClassifier(\n",
    "    hidden_layer_sizes=(30,),\n",
    "    learning_rate_init=0.15,\n",
    "    momentum=0.9,\n",
    "    random_state=0,\n",
    "    verbose=1\n",
    ")\n",
    "\n",
    "model.fit(X_train, y_train)"
   ]
  },
  {
   "cell_type": "markdown",
   "metadata": {},
   "source": [
    "### Test"
   ]
  },
  {
   "cell_type": "code",
   "execution_count": 15,
   "metadata": {},
   "outputs": [
    {
     "data": {
      "text/plain": [
       "0.9734375"
      ]
     },
     "execution_count": 15,
     "metadata": {},
     "output_type": "execute_result"
    }
   ],
   "source": [
    "model.score(X_test, y_test)"
   ]
  },
  {
   "cell_type": "markdown",
   "metadata": {},
   "source": [
    "### Size"
   ]
  },
  {
   "cell_type": "code",
   "execution_count": 9,
   "metadata": {},
   "outputs": [
    {
     "name": "stdout",
     "output_type": "stream",
     "text": [
      "1355387 bytes\n"
     ]
    }
   ],
   "source": [
    "import pickle\n",
    "import sys\n",
    "\n",
    "p = pickle.dumps(model)\n",
    "print(f\"{sys.getsizeof(p)} bytes\")"
   ]
  },
  {
   "cell_type": "code",
   "execution_count": null,
   "metadata": {},
   "outputs": [],
   "source": []
  }
 ],
 "metadata": {
  "kernelspec": {
   "display_name": "venv",
   "language": "python",
   "name": "python3"
  },
  "language_info": {
   "codemirror_mode": {
    "name": "ipython",
    "version": 3
   },
   "file_extension": ".py",
   "mimetype": "text/x-python",
   "name": "python",
   "nbconvert_exporter": "python",
   "pygments_lexer": "ipython3",
   "version": "3.10.1"
  }
 },
 "nbformat": 4,
 "nbformat_minor": 2
}
